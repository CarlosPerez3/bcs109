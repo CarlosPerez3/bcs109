{
  "nbformat": 4,
  "nbformat_minor": 0,
  "metadata": {
    "colab": {
      "name": "Untitled8.ipynb",
      "provenance": [],
      "collapsed_sections": [],
      "authorship_tag": "ABX9TyOFNsSfYW/dXcCVqr17H/CX",
      "include_colab_link": true
    },
    "kernelspec": {
      "name": "python3",
      "display_name": "Python 3"
    }
  },
  "cells": [
    {
      "cell_type": "markdown",
      "metadata": {
        "id": "view-in-github",
        "colab_type": "text"
      },
      "source": [
        "<a href=\"https://colab.research.google.com/github/CarlosPerez3/bcs109/blob/master/Untitled8.ipynb\" target=\"_parent\"><img src=\"https://colab.research.google.com/assets/colab-badge.svg\" alt=\"Open In Colab\"/></a>"
      ]
    },
    {
      "cell_type": "code",
      "metadata": {
        "id": "rLaTAaINzNiY",
        "outputId": "04c36350-49f7-46e0-c329-ef1431a38a20",
        "colab": {
          "base_uri": "https://localhost:8080/",
          "height": 51
        }
      },
      "source": [
        "def theMax(numbers):\n",
        "  max = -1\n",
        "  for k in numbers:\n",
        "    if max < k:\n",
        "      max = k\n",
        "  return max\n",
        "\n",
        "def theMin(numbers):\n",
        "  min = 1000000000\n",
        "  for k in numbers:\n",
        "    if min > k:\n",
        "      min = k\n",
        "    return min\n",
        "\n",
        "def theAverage(numbers):\n",
        "  total = 0\n",
        "  for k in numbers:\n",
        "    total += k\n",
        "  return total/ len(numbers)\n",
        "\n",
        "def theSD(numbers):\n",
        "  total = 0\n",
        "  avg = theAverage(numbers)\n",
        "  for k in numbers:\n",
        "    total += pow(k-avg,2)\n",
        "  return pow(total/(len(numbers)-1),.5)\n",
        "\n",
        "def theGeoMean(numbers):\n",
        "  total = 1\n",
        "  for k in numbers:\n",
        "    total *= k\n",
        "  return pow(total, 1/len(numbers))\n",
        "\n",
        "theList = [ 19, 32, 34,33, 75, 91, 9, 4, 18, 38]\n",
        "print(theAverage(theList))\n",
        "print(theGeoMean(theList))\n",
        "\n"
      ],
      "execution_count": null,
      "outputs": [
        {
          "output_type": "stream",
          "text": [
            "35.3\n",
            "25.464536135860143\n"
          ],
          "name": "stdout"
        }
      ]
    },
    {
      "cell_type": "code",
      "metadata": {
        "id": "pAfRMSOj56Oh"
      },
      "source": [
        "import math\n",
        "\n",
        "def chooseShape():\n",
        "  val = input(\"press 1 for triangle, 2 for circle, 3 for square\")\n",
        "  if val == 1:\n",
        "    triangleArea()\n",
        "  elif val == 2:\n",
        "    circleArea()\n",
        "  elif val == 3:\n",
        "    squareArea\n",
        "  else:\n",
        "    print(\"Invalid choice\")\n",
        "\n",
        "def triangleArea():\n",
        "  base = float(input('What is the base?'))\n",
        "  height = float(input('What is the height?'))\n",
        "  print(f'The area is {base*height/2}.')\n",
        "\n",
        "def circleArea():\n",
        "  radius = float(input('What is the radius?'))\n",
        "  print(f'The area of ther circle is {radius*radius*math.pi}')\n",
        "\n",
        "def squareArea():"
      ],
      "execution_count": null,
      "outputs": []
    },
    {
      "cell_type": "code",
      "metadata": {
        "id": "vz817ImHGDMG",
        "outputId": "beb646f4-ff52-4a81-87f9-63533b11d905",
        "colab": {
          "base_uri": "https://localhost:8080/"
        }
      },
      "source": [
        "x = [1, 2, 3]\n",
        "y = [7, 8, 9]\n",
        "other = []\n",
        "\n",
        "for i in range(len(x)):\n",
        "  other.append(x[i] *10 + y[i])\n",
        "\n",
        "print(other)\n"
      ],
      "execution_count": 1,
      "outputs": [
        {
          "output_type": "stream",
          "text": [
            "[17, 28, 39]\n"
          ],
          "name": "stdout"
        }
      ]
    },
    {
      "cell_type": "code",
      "metadata": {
        "id": "O-KuZBeAG2_N",
        "outputId": "5a4413e2-9097-487f-b435-7ba244b0adc3",
        "colab": {
          "base_uri": "https://localhost:8080/"
        }
      },
      "source": [
        "def doubleIt(x):\n",
        "  choice = int(input('Say 1 to double the numbers and 2 to double the values'))\n",
        "  \n",
        "  if choice == 1:\n",
        "    return x*2\n",
        "\n",
        "  elif choice == 2:\n",
        "    for k in range(len(x)):\n",
        "      x[k] = x[k]*2\n",
        "    return x\n",
        "\n",
        "\n",
        "val = [1, 2, 3]\n",
        "other = doubleIt(val)\n",
        "\n",
        "print(other)"
      ],
      "execution_count": 8,
      "outputs": [
        {
          "output_type": "stream",
          "text": [
            "Say 1 to double the numbers and 2 to double the values2\n",
            "[2, 4, 6]\n"
          ],
          "name": "stdout"
        }
      ]
    },
    {
      "cell_type": "code",
      "metadata": {
        "id": "U7LVwcH1IQuJ",
        "outputId": "3c59d68c-7688-4e83-99c4-94c8fd8c6f0d",
        "colab": {
          "base_uri": "https://localhost:8080/"
        }
      },
      "source": [
        "#sum of eve valued fibonacci numbers\n",
        "def fib():\n",
        "  a = 1\n",
        "  b = 1\n",
        "  total = 0\n",
        "\n",
        "  for k in range(1000):\n",
        "    c = a +b\n",
        "    if c >= 1000:\n",
        "      break\n",
        "    elif (c % 2 == 0):\n",
        "      total += c\n",
        "    a = b\n",
        "    b = c\n",
        "\n",
        "  return total \n",
        "\n",
        "print(fib())"
      ],
      "execution_count": 19,
      "outputs": [
        {
          "output_type": "stream",
          "text": [
            "798\n"
          ],
          "name": "stdout"
        }
      ]
    }
  ]
}