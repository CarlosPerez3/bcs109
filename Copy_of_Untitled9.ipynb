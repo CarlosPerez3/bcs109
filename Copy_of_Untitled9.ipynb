{
  "nbformat": 4,
  "nbformat_minor": 0,
  "metadata": {
    "colab": {
      "name": "Copy of Untitled9.ipynb",
      "provenance": [],
      "authorship_tag": "ABX9TyNtroooUK52vNtmBGdxUwyP",
      "include_colab_link": true
    },
    "kernelspec": {
      "name": "python3",
      "display_name": "Python 3"
    }
  },
  "cells": [
    {
      "cell_type": "markdown",
      "metadata": {
        "id": "view-in-github",
        "colab_type": "text"
      },
      "source": [
        "<a href=\"https://colab.research.google.com/github/CarlosPerez3/bcs109/blob/master/Copy_of_Untitled9.ipynb\" target=\"_parent\"><img src=\"https://colab.research.google.com/assets/colab-badge.svg\" alt=\"Open In Colab\"/></a>"
      ]
    },
    {
      "cell_type": "code",
      "metadata": {
        "id": "wLbalhGfT8Sm",
        "outputId": "65cba849-6a7c-41a5-adef-c64a3ac1a926",
        "colab": {
          "base_uri": "https://localhost:8080/",
          "height": 204
        }
      },
      "source": [
        "# load pandas and numpy libraries\n",
        "import pandas as pd \n",
        "import numpy as np\n",
        "import matplotlib.pyplot as plt\n",
        "import missingno as msno\n",
        "import seaborn as sns\n",
        "\n",
        "\n",
        "df = pd.read_csv(\"https://raw.githubusercontent.com/MatthewFried/Udemy/master/Day4/Day4%20Data.csv\")\n",
        "df.head()"
      ],
      "execution_count": null,
      "outputs": [
        {
          "output_type": "execute_result",
          "data": {
            "text/html": [
              "<div>\n",
              "<style scoped>\n",
              "    .dataframe tbody tr th:only-of-type {\n",
              "        vertical-align: middle;\n",
              "    }\n",
              "\n",
              "    .dataframe tbody tr th {\n",
              "        vertical-align: top;\n",
              "    }\n",
              "\n",
              "    .dataframe thead th {\n",
              "        text-align: right;\n",
              "    }\n",
              "</style>\n",
              "<table border=\"1\" class=\"dataframe\">\n",
              "  <thead>\n",
              "    <tr style=\"text-align: right;\">\n",
              "      <th></th>\n",
              "      <th>pregnant</th>\n",
              "      <th>glucose</th>\n",
              "      <th>diastolic</th>\n",
              "      <th>skinfold</th>\n",
              "      <th>insulin</th>\n",
              "      <th>bmi</th>\n",
              "      <th>pedigree</th>\n",
              "      <th>age</th>\n",
              "      <th>class</th>\n",
              "      <th>scored.class</th>\n",
              "      <th>scored.probability</th>\n",
              "    </tr>\n",
              "  </thead>\n",
              "  <tbody>\n",
              "    <tr>\n",
              "      <th>0</th>\n",
              "      <td>7</td>\n",
              "      <td>124</td>\n",
              "      <td>70</td>\n",
              "      <td>33</td>\n",
              "      <td>215</td>\n",
              "      <td>25.5</td>\n",
              "      <td>0.161</td>\n",
              "      <td>37</td>\n",
              "      <td>0</td>\n",
              "      <td>0</td>\n",
              "      <td>0.328452</td>\n",
              "    </tr>\n",
              "    <tr>\n",
              "      <th>1</th>\n",
              "      <td>2</td>\n",
              "      <td>122</td>\n",
              "      <td>76</td>\n",
              "      <td>27</td>\n",
              "      <td>200</td>\n",
              "      <td>35.9</td>\n",
              "      <td>0.483</td>\n",
              "      <td>26</td>\n",
              "      <td>0</td>\n",
              "      <td>0</td>\n",
              "      <td>0.273190</td>\n",
              "    </tr>\n",
              "    <tr>\n",
              "      <th>2</th>\n",
              "      <td>3</td>\n",
              "      <td>107</td>\n",
              "      <td>62</td>\n",
              "      <td>13</td>\n",
              "      <td>48</td>\n",
              "      <td>22.9</td>\n",
              "      <td>0.678</td>\n",
              "      <td>23</td>\n",
              "      <td>1</td>\n",
              "      <td>0</td>\n",
              "      <td>0.109660</td>\n",
              "    </tr>\n",
              "    <tr>\n",
              "      <th>3</th>\n",
              "      <td>1</td>\n",
              "      <td>91</td>\n",
              "      <td>64</td>\n",
              "      <td>24</td>\n",
              "      <td>0</td>\n",
              "      <td>29.2</td>\n",
              "      <td>0.192</td>\n",
              "      <td>21</td>\n",
              "      <td>0</td>\n",
              "      <td>0</td>\n",
              "      <td>0.055998</td>\n",
              "    </tr>\n",
              "    <tr>\n",
              "      <th>4</th>\n",
              "      <td>4</td>\n",
              "      <td>83</td>\n",
              "      <td>86</td>\n",
              "      <td>19</td>\n",
              "      <td>0</td>\n",
              "      <td>29.3</td>\n",
              "      <td>0.317</td>\n",
              "      <td>34</td>\n",
              "      <td>0</td>\n",
              "      <td>0</td>\n",
              "      <td>0.100491</td>\n",
              "    </tr>\n",
              "  </tbody>\n",
              "</table>\n",
              "</div>"
            ],
            "text/plain": [
              "   pregnant  glucose  diastolic  ...  class  scored.class  scored.probability\n",
              "0         7      124         70  ...      0             0            0.328452\n",
              "1         2      122         76  ...      0             0            0.273190\n",
              "2         3      107         62  ...      1             0            0.109660\n",
              "3         1       91         64  ...      0             0            0.055998\n",
              "4         4       83         86  ...      0             0            0.100491\n",
              "\n",
              "[5 rows x 11 columns]"
            ]
          },
          "metadata": {
            "tags": []
          },
          "execution_count": 1
        }
      ]
    },
    {
      "cell_type": "code",
      "metadata": {
        "id": "DrXN8rwOYChf",
        "outputId": "0ce451a2-d275-4efc-eb94-eb3cade6a30c",
        "colab": {
          "base_uri": "https://localhost:8080/"
        }
      },
      "source": [
        "#check for nulls\n",
        "df.isnull().sum()"
      ],
      "execution_count": null,
      "outputs": [
        {
          "output_type": "execute_result",
          "data": {
            "text/plain": [
              "pregnant              0\n",
              "glucose               0\n",
              "diastolic             0\n",
              "skinfold              0\n",
              "insulin               0\n",
              "bmi                   0\n",
              "pedigree              0\n",
              "age                   0\n",
              "class                 0\n",
              "scored.class          0\n",
              "scored.probability    0\n",
              "dtype: int64"
            ]
          },
          "metadata": {
            "tags": []
          },
          "execution_count": 2
        }
      ]
    },
    {
      "cell_type": "code",
      "metadata": {
        "id": "G0jkW25ZYKof",
        "outputId": "74b2a129-2904-4184-86c6-0b90da2e221d",
        "colab": {
          "base_uri": "https://localhost:8080/"
        }
      },
      "source": [
        "#List number of unique values\n",
        "#We see this matches with information that is given about the data\n",
        "df.nunique()"
      ],
      "execution_count": null,
      "outputs": [
        {
          "output_type": "execute_result",
          "data": {
            "text/plain": [
              "pregnant               15\n",
              "glucose                89\n",
              "diastolic              33\n",
              "skinfold               43\n",
              "insulin                65\n",
              "bmi                   123\n",
              "pedigree              161\n",
              "age                    41\n",
              "class                   2\n",
              "scored.class            2\n",
              "scored.probability    181\n",
              "dtype: int64"
            ]
          },
          "metadata": {
            "tags": []
          },
          "execution_count": 3
        }
      ]
    },
    {
      "cell_type": "code",
      "metadata": {
        "id": "_dD9oIugYbwI",
        "outputId": "13e442d4-0708-4b31-d0cf-1ebc90f9c913",
        "colab": {
          "base_uri": "https://localhost:8080/",
          "height": 297
        }
      },
      "source": [
        "df.describe()"
      ],
      "execution_count": null,
      "outputs": [
        {
          "output_type": "execute_result",
          "data": {
            "text/html": [
              "<div>\n",
              "<style scoped>\n",
              "    .dataframe tbody tr th:only-of-type {\n",
              "        vertical-align: middle;\n",
              "    }\n",
              "\n",
              "    .dataframe tbody tr th {\n",
              "        vertical-align: top;\n",
              "    }\n",
              "\n",
              "    .dataframe thead th {\n",
              "        text-align: right;\n",
              "    }\n",
              "</style>\n",
              "<table border=\"1\" class=\"dataframe\">\n",
              "  <thead>\n",
              "    <tr style=\"text-align: right;\">\n",
              "      <th></th>\n",
              "      <th>pregnant</th>\n",
              "      <th>glucose</th>\n",
              "      <th>diastolic</th>\n",
              "      <th>skinfold</th>\n",
              "      <th>insulin</th>\n",
              "      <th>bmi</th>\n",
              "      <th>pedigree</th>\n",
              "      <th>age</th>\n",
              "      <th>class</th>\n",
              "      <th>scored.class</th>\n",
              "      <th>scored.probability</th>\n",
              "    </tr>\n",
              "  </thead>\n",
              "  <tbody>\n",
              "    <tr>\n",
              "      <th>count</th>\n",
              "      <td>181.000000</td>\n",
              "      <td>181.000000</td>\n",
              "      <td>181.000000</td>\n",
              "      <td>181.000000</td>\n",
              "      <td>181.000000</td>\n",
              "      <td>181.000000</td>\n",
              "      <td>181.000000</td>\n",
              "      <td>181.000000</td>\n",
              "      <td>181.000000</td>\n",
              "      <td>181.000000</td>\n",
              "      <td>181.000000</td>\n",
              "    </tr>\n",
              "    <tr>\n",
              "      <th>mean</th>\n",
              "      <td>3.861878</td>\n",
              "      <td>118.303867</td>\n",
              "      <td>71.701657</td>\n",
              "      <td>19.801105</td>\n",
              "      <td>63.767956</td>\n",
              "      <td>31.577901</td>\n",
              "      <td>0.449641</td>\n",
              "      <td>33.314917</td>\n",
              "      <td>0.314917</td>\n",
              "      <td>0.176796</td>\n",
              "      <td>0.303726</td>\n",
              "    </tr>\n",
              "    <tr>\n",
              "      <th>std</th>\n",
              "      <td>3.236551</td>\n",
              "      <td>30.484084</td>\n",
              "      <td>11.802987</td>\n",
              "      <td>15.692326</td>\n",
              "      <td>88.734756</td>\n",
              "      <td>6.659935</td>\n",
              "      <td>0.284006</td>\n",
              "      <td>11.183582</td>\n",
              "      <td>0.465771</td>\n",
              "      <td>0.382554</td>\n",
              "      <td>0.231235</td>\n",
              "    </tr>\n",
              "    <tr>\n",
              "      <th>min</th>\n",
              "      <td>0.000000</td>\n",
              "      <td>57.000000</td>\n",
              "      <td>38.000000</td>\n",
              "      <td>0.000000</td>\n",
              "      <td>0.000000</td>\n",
              "      <td>19.400000</td>\n",
              "      <td>0.085000</td>\n",
              "      <td>21.000000</td>\n",
              "      <td>0.000000</td>\n",
              "      <td>0.000000</td>\n",
              "      <td>0.023228</td>\n",
              "    </tr>\n",
              "    <tr>\n",
              "      <th>25%</th>\n",
              "      <td>1.000000</td>\n",
              "      <td>99.000000</td>\n",
              "      <td>64.000000</td>\n",
              "      <td>0.000000</td>\n",
              "      <td>0.000000</td>\n",
              "      <td>26.300000</td>\n",
              "      <td>0.257000</td>\n",
              "      <td>24.000000</td>\n",
              "      <td>0.000000</td>\n",
              "      <td>0.000000</td>\n",
              "      <td>0.117024</td>\n",
              "    </tr>\n",
              "    <tr>\n",
              "      <th>50%</th>\n",
              "      <td>3.000000</td>\n",
              "      <td>112.000000</td>\n",
              "      <td>70.000000</td>\n",
              "      <td>22.000000</td>\n",
              "      <td>0.000000</td>\n",
              "      <td>31.600000</td>\n",
              "      <td>0.391000</td>\n",
              "      <td>30.000000</td>\n",
              "      <td>0.000000</td>\n",
              "      <td>0.000000</td>\n",
              "      <td>0.239994</td>\n",
              "    </tr>\n",
              "    <tr>\n",
              "      <th>75%</th>\n",
              "      <td>6.000000</td>\n",
              "      <td>136.000000</td>\n",
              "      <td>78.000000</td>\n",
              "      <td>32.000000</td>\n",
              "      <td>105.000000</td>\n",
              "      <td>36.000000</td>\n",
              "      <td>0.580000</td>\n",
              "      <td>41.000000</td>\n",
              "      <td>1.000000</td>\n",
              "      <td>0.000000</td>\n",
              "      <td>0.430926</td>\n",
              "    </tr>\n",
              "    <tr>\n",
              "      <th>max</th>\n",
              "      <td>15.000000</td>\n",
              "      <td>197.000000</td>\n",
              "      <td>104.000000</td>\n",
              "      <td>54.000000</td>\n",
              "      <td>543.000000</td>\n",
              "      <td>50.000000</td>\n",
              "      <td>2.288000</td>\n",
              "      <td>67.000000</td>\n",
              "      <td>1.000000</td>\n",
              "      <td>1.000000</td>\n",
              "      <td>0.946334</td>\n",
              "    </tr>\n",
              "  </tbody>\n",
              "</table>\n",
              "</div>"
            ],
            "text/plain": [
              "         pregnant     glucose  ...  scored.class  scored.probability\n",
              "count  181.000000  181.000000  ...    181.000000          181.000000\n",
              "mean     3.861878  118.303867  ...      0.176796            0.303726\n",
              "std      3.236551   30.484084  ...      0.382554            0.231235\n",
              "min      0.000000   57.000000  ...      0.000000            0.023228\n",
              "25%      1.000000   99.000000  ...      0.000000            0.117024\n",
              "50%      3.000000  112.000000  ...      0.000000            0.239994\n",
              "75%      6.000000  136.000000  ...      0.000000            0.430926\n",
              "max     15.000000  197.000000  ...      1.000000            0.946334\n",
              "\n",
              "[8 rows x 11 columns]"
            ]
          },
          "metadata": {
            "tags": []
          },
          "execution_count": 4
        }
      ]
    },
    {
      "cell_type": "code",
      "metadata": {
        "id": "rO0l4JQ5Ygpm",
        "outputId": "956978e1-829f-4808-982b-4855aa93cf71",
        "colab": {
          "base_uri": "https://localhost:8080/",
          "height": 314
        }
      },
      "source": [
        "#we now check the scale\n",
        "sns.catplot(data=df , kind='box' , height=4, aspect=2)"
      ],
      "execution_count": null,
      "outputs": [
        {
          "output_type": "execute_result",
          "data": {
            "text/plain": [
              "<seaborn.axisgrid.FacetGrid at 0x7ff25c429da0>"
            ]
          },
          "metadata": {
            "tags": []
          },
          "execution_count": 5
        },
        {
          "output_type": "display_data",
          "data": {
            "image/png": "[encoded data removed]",
            "text/plain": [
              "<Figure size 576x288 with 1 Axes>"
            ]
          },
          "metadata": {
            "tags": [],
            "needs_background": "light"
          }
        }
      ]
    },
    {
      "cell_type": "code",
      "metadata": {
        "id": "cC7-s3nBY0Lv",
        "outputId": "b04570a3-718a-4401-b2a4-8bb4bcd188e2",
        "colab": {
          "base_uri": "https://localhost:8080/",
          "height": 256
        }
      },
      "source": [
        "sns.catplot(x='pregnant', data=df , kind='count',height = 3, aspect=1.1)"
      ],
      "execution_count": null,
      "outputs": [
        {
          "output_type": "execute_result",
          "data": {
            "text/plain": [
              "<seaborn.axisgrid.FacetGrid at 0x7ff25809ed68>"
            ]
          },
          "metadata": {
            "tags": []
          },
          "execution_count": 6
        },
        {
          "output_type": "display_data",
          "data": {
            "image/png": "[encoded data removed]",
            "text/plain": [
              "<Figure size 237.6x216 with 1 Axes>"
            ]
          },
          "metadata": {
            "tags": [],
            "needs_background": "light"
          }
        }
      ]
    }
  ]
}