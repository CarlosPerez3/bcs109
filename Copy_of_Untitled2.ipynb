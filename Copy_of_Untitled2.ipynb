{
  "nbformat": 4,
  "nbformat_minor": 0,
  "metadata": {
    "colab": {
      "name": "Copy of Untitled2.ipynb",
      "provenance": [],
      "authorship_tag": "ABX9TyNOxtX9Wg+DejLbA0Pd3OVx",
      "include_colab_link": true
    },
    "kernelspec": {
      "name": "python3",
      "display_name": "Python 3"
    }
  },
  "cells": [
    {
      "cell_type": "markdown",
      "metadata": {
        "id": "view-in-github",
        "colab_type": "text"
      },
      "source": [
        "<a href=\"https://colab.research.google.com/github/CarlosPerez3/bcs109/blob/master/Copy_of_Untitled2.ipynb\" target=\"_parent\"><img src=\"https://colab.research.google.com/assets/colab-badge.svg\" alt=\"Open In Colab\"/></a>"
      ]
    },
    {
      "cell_type": "code",
      "metadata": {
        "id": "KIWCHuIKdis3",
        "colab_type": "code",
        "colab": {
          "base_uri": "https://localhost:8080/",
          "height": 136
        },
        "outputId": "36ee1303-844d-4ccc-971b-5116062d242a"
      },
      "source": [
        "#to get future value\n",
        "r = float(input(\"what is the interest rate?\\n\"))\n",
        "p = float(input(\"what is the principal?\\n\"))\n",
        "t = float(input(\"what is the time on the investment?\\n\"))\n",
        "\n",
        "output = p*(1+r)**t\n",
        "print(\"the future value is : \" , output)"
      ],
      "execution_count": null,
      "outputs": [
        {
          "output_type": "stream",
          "text": [
            "what is the interest rate?\n",
            ".05\n",
            "what is the principal?\n",
            "1000\n",
            "what is the time on the investment?\n",
            "30\n",
            "the future value is :  4321.942375150667\n"
          ],
          "name": "stdout"
        }
      ]
    },
    {
      "cell_type": "code",
      "metadata": {
        "id": "73Nuasg-ruCu",
        "colab_type": "code",
        "colab": {
          "base_uri": "https://localhost:8080/",
          "height": 34
        },
        "outputId": "75a6e510-2172-4446-d74f-e6eacf9ca18f"
      },
      "source": [
        "for x in range(10):\n",
        "  print(x, end = ' | ') "
      ],
      "execution_count": null,
      "outputs": [
        {
          "output_type": "stream",
          "text": [
            "0 | 1 | 2 | 3 | 4 | 5 | 6 | 7 | 8 | 9 | "
          ],
          "name": "stdout"
        }
      ]
    },
    {
      "cell_type": "code",
      "metadata": {
        "id": "gWTbD9bCspmq",
        "colab_type": "code",
        "colab": {
          "base_uri": "https://localhost:8080/",
          "height": 34
        },
        "outputId": "b415d80a-c99a-4963-b024-651b5d4c910a"
      },
      "source": [
        "k = 12345.6789\n",
        "print(f\"it is formatted thus: ${k:,.2f}\")"
      ],
      "execution_count": null,
      "outputs": [
        {
          "output_type": "stream",
          "text": [
            "it is formatted thus: $12,345.68\n"
          ],
          "name": "stdout"
        }
      ]
    }
  ]
}