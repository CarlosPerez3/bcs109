{
  "nbformat": 4,
  "nbformat_minor": 0,
  "metadata": {
    "colab": {
      "name": "Untitled4.ipynb",
      "provenance": [],
      "authorship_tag": "ABX9TyN2XIW9j+q4aGnCOW8UJP88",
      "include_colab_link": true
    },
    "kernelspec": {
      "name": "python3",
      "display_name": "Python 3"
    }
  },
  "cells": [
    {
      "cell_type": "markdown",
      "metadata": {
        "id": "view-in-github",
        "colab_type": "text"
      },
      "source": [
        "<a href=\"https://colab.research.google.com/github/CarlosPerez3/bcs109/blob/master/Untitled4.ipynb\" target=\"_parent\"><img src=\"https://colab.research.google.com/assets/colab-badge.svg\" alt=\"Open In Colab\"/></a>"
      ]
    },
    {
      "cell_type": "code",
      "metadata": {
        "id": "23FI8iVGucvA",
        "colab_type": "code",
        "colab": {
          "base_uri": "https://localhost:8080/",
          "height": 130
        },
        "outputId": "2d742594-5d32-4deb-ab17-5759dadf95bc"
      },
      "source": [
        "def main():\n",
        "packages = int(input('Enter the number of packages you would like to order:'))\n",
        "\n",
        "if packages <= 19 and packages >=10: \n",
        "discount(packages,.2)\n",
        "elif packages <= 49 and packages >=20:\n",
        "discount(packages, .3)\n",
        "elif packages <= 99 and packages >=50:\n",
        "discount(packages, .4)\n",
        "else:\n",
        "discount(packages, .5)\n",
        "\n",
        "def discount(value, x):\n",
        "  print('You receive a %d discount' %x) \n",
        "  total = reg * value * x\n",
        "  print('$', total)\n",
        "  reg = 99 "
      ],
      "execution_count": 3,
      "outputs": [
        {
          "output_type": "error",
          "ename": "IndentationError",
          "evalue": "ignored",
          "traceback": [
            "\u001b[0;36m  File \u001b[0;32m\"<ipython-input-3-3b966e832736>\"\u001b[0;36m, line \u001b[0;32m2\u001b[0m\n\u001b[0;31m    packages = int(input('Enter the number of packages you would like to order:'))\u001b[0m\n\u001b[0m           ^\u001b[0m\n\u001b[0;31mIndentationError\u001b[0m\u001b[0;31m:\u001b[0m expected an indented block\n"
          ]
        }
      ]
    },
    {
      "cell_type": "code",
      "metadata": {
        "id": "1aE5AZhWxMGa",
        "colab_type": "code",
        "colab": {}
      },
      "source": [
        "userWeightOfPackage = int(input(\"Please enter the weight of the package:\"))\n",
        "\n",
        "if userWeightOfPackage <= 2:\n",
        "  shippingCharges = 1.50\n",
        "elif userWeightOfPackage < 7:\n",
        "  shippingCharges = 3.00\n",
        "elif userWeightOfPackage < 11:\n",
        "  shippingCharges = 4.00\n",
        "else: \n",
        "  shippingCharges = 4.75\n",
        "\n",
        "\n",
        "  print(\"\\nFor a package weighing\" + str(userWeightOfPackage) + \\\" , you'll pay $\" + format(shippingCharges, \", .2f\") + \"per pound. \")\n"
      ],
      "execution_count": null,
      "outputs": []
    }
  ]
}